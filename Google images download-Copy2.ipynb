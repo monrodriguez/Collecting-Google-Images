{
 "cells": [
  {
   "cell_type": "markdown",
   "metadata": {},
   "source": [
    "#Remember that you need: \n",
    "1) Have Geckodriver.exe and place it in the googleimages folder (if not, download it)\n",
    "2) Have Firefox Downloaded (if not, download it)\n",
    "3) install all packages required\n",
    "4) Create a folder for the images \n",
    "5) Set all the paths for folder/images/words."
   ]
  },
  {
   "cell_type": "code",
   "execution_count": null,
   "metadata": {},
   "outputs": [],
   "source": [
    "pip install google_images_download  "
   ]
  },
  {
   "cell_type": "code",
   "execution_count": null,
   "metadata": {},
   "outputs": [],
   "source": [
    "#you might need to install packages before importing them!! \n",
    "\n",
    "#pip install selenium\n"
   ]
  },
  {
   "cell_type": "code",
   "execution_count": 4,
   "metadata": {},
   "outputs": [
    {
     "name": "stderr",
     "output_type": "stream",
     "text": [
      "C:\\Users\\LABSTU~1\\AppData\\Local\\Temp/ipykernel_2284/971993596.py:8: DeprecationWarning: executable_path has been deprecated, please pass in a Service object\n",
      "  driver = webdriver.Firefox(executable_path='C:/Users/labstudent/Desktop/GoogleImages/geckodriver.exe')\n"
     ]
    }
   ],
   "source": [
    "#Imports Packages\n",
    "from selenium import webdriver\n",
    "from selenium.webdriver.common.keys import Keys\n",
    "import time \n",
    "from datetime import date\n",
    "import pandas as pd\n",
    "#Opens up web driver and goes to Google Images\n",
    "driver = webdriver.Firefox(executable_path='C:/Users/labstudent/Desktop/GoogleImages/geckodriver.exe')\n",
    "#driver = webdriver.Chrome('C:/Web Scraping course/chromedriver.exe')\n",
    "#driver.get('https://www.google.ca/imghp?hl=en&tab=ri&authuser=0&ogbl')\n"
   ]
  },
  {
   "cell_type": "code",
   "execution_count": 5,
   "metadata": {},
   "outputs": [],
   "source": [
    "site=driver.get(\"https://images.google.com/\")\n"
   ]
  },
  {
   "cell_type": "code",
   "execution_count": 6,
   "metadata": {},
   "outputs": [
    {
     "name": "stderr",
     "output_type": "stream",
     "text": [
      "C:\\Users\\LABSTU~1\\AppData\\Local\\Temp/ipykernel_2284/571966633.py:2: DeprecationWarning: find_element_by_xpath is deprecated. Please use find_element(by=By.XPATH, value=xpath) instead\n",
      "  driver.find_element_by_xpath('//*[@id=\"L2AGLb\"]').click()\n"
     ]
    }
   ],
   "source": [
    "#driver.execute_script('window.scrollTo(0,document.body.scrollHeight)')\n",
    "driver.find_element_by_xpath('//*[@id=\"L2AGLb\"]').click()\n",
    "\n"
   ]
  },
  {
   "cell_type": "code",
   "execution_count": 7,
   "metadata": {},
   "outputs": [
    {
     "name": "stderr",
     "output_type": "stream",
     "text": [
      "C:\\Users\\LABSTU~1\\AppData\\Local\\Temp/ipykernel_2284/466614500.py:1: DeprecationWarning: find_element_by_xpath is deprecated. Please use find_element(by=By.XPATH, value=xpath) instead\n",
      "  box=driver.find_element_by_xpath('/html/body/div[1]/div[3]/form/div[1]/div[1]/div[1]/div/div[2]/input')\n"
     ]
    }
   ],
   "source": [
    "box=driver.find_element_by_xpath('/html/body/div[1]/div[3]/form/div[1]/div[1]/div[1]/div/div[2]/input')"
   ]
  },
  {
   "cell_type": "code",
   "execution_count": 8,
   "metadata": {},
   "outputs": [],
   "source": [
    "#Remember to create a folder in the main folder for all the images and for the CSV file! \n",
    "#list of search terms\n",
    "\n",
    "searchterms='Holidays'\n",
    "mainfolder=\"C:/Users/labstudent/Desktop/GoogleImages/\"\n",
    "term='Holidays'\n",
    "\n",
    "folder=term+\"/\"\n",
    "\n",
    "downloadfolder=mainfolder+folder"
   ]
  },
  {
   "cell_type": "code",
   "execution_count": 9,
   "metadata": {},
   "outputs": [],
   "source": [
    "box.send_keys(searchterms)\n",
    "box.send_keys(Keys.ENTER)"
   ]
  },
  {
   "cell_type": "code",
   "execution_count": 10,
   "metadata": {},
   "outputs": [
    {
     "name": "stderr",
     "output_type": "stream",
     "text": [
      "C:\\Users\\LABSTU~1\\AppData\\Local\\Temp/ipykernel_2284/1124116309.py:8: DeprecationWarning: find_element_by_xpath is deprecated. Please use find_element(by=By.XPATH, value=xpath) instead\n",
      "  driver.find_element_by_xpath('//*[@id=\"islmp\"]/div/div/div/div/div[5]/input').click().screenshot(folder+str(searchterms)+'.png')\n"
     ]
    }
   ],
   "source": [
    "#Will keep scrolling down the webpage until it cannot scroll no more\n",
    "last_height = driver.execute_script('return document.body.scrollHeight')\n",
    "while True:\n",
    "    driver.execute_script('window.scrollTo(0,document.body.scrollHeight)')\n",
    "    time.sleep(2)\n",
    "    new_height = driver.execute_script('return document.body.scrollHeight')\n",
    "    try:\n",
    "        driver.find_element_by_xpath('//*[@id=\"islmp\"]/div/div/div/div/div[5]/input').click().screenshot(folder+str(searchterms)+'.png')\n",
    "        time.sleep(2)\n",
    "    except:\n",
    "        pass\n",
    "    if new_height == last_height:\n",
    "        break\n",
    "    last_height = new_height\n"
   ]
  },
  {
   "cell_type": "code",
   "execution_count": null,
   "metadata": {},
   "outputs": [],
   "source": [
    "#//*[@id=\"islrg\"]/div[1]/div[1]/a[1]/div[1]/img"
   ]
  },
  {
   "cell_type": "code",
   "execution_count": 20,
   "metadata": {},
   "outputs": [],
   "source": [
    "#number of images to collect\n",
    "number=20"
   ]
  },
  {
   "cell_type": "code",
   "execution_count": 21,
   "metadata": {},
   "outputs": [
    {
     "name": "stderr",
     "output_type": "stream",
     "text": [
      "C:\\Users\\LABSTU~1\\AppData\\Local\\Temp/ipykernel_2284/3241597734.py:12: DeprecationWarning: find_element_by_xpath is deprecated. Please use find_element(by=By.XPATH, value=xpath) instead\n",
      "  image=driver.find_element_by_xpath('//*[@id=\"islrg\"]/div[1]/div['+str(i)+']/a[1]/div[1]/img')\n",
      "C:\\Users\\LABSTU~1\\AppData\\Local\\Temp/ipykernel_2284/3241597734.py:17: DeprecationWarning: find_element_by_xpath is deprecated. Please use find_element(by=By.XPATH, value=xpath) instead\n",
      "  info=driver.find_element_by_xpath('//*[@id=\"islrg\"]/div[1]/div['+str(i)+']/a[2]')\n"
     ]
    },
    {
     "name": "stdout",
     "output_type": "stream",
     "text": [
      "1\n",
      "C:/Users/labstudent/Desktop/GoogleImages/Holidays/\n",
      "Holidays1.png\n",
      "https://www.thebalancecareers.com/paid-holiday-schedule-1917985\n",
      "What's a Typical Paid Holiday Schedule in the US?\n",
      "2022-03-28\n",
      "2\n",
      "C:/Users/labstudent/Desktop/GoogleImages/Holidays/\n",
      "Holidays2.png\n",
      "https://www.gmcanantnag.net/imgjx.aspx?cid=116&zhjx=holiday+calendar+2024&xi=4&xc=22\n",
      "holiday calendar 2024 Off 60% - www.gmcanantnag.net\n",
      "2022-03-28\n",
      "3\n",
      "C:/Users/labstudent/Desktop/GoogleImages/Holidays/\n",
      "Holidays3.png\n",
      "https://oldgliders.com/en/news/holiday/\n",
      "HOLIDAY! - OldGliders - modele RC\n",
      "2022-03-28\n",
      "4\n",
      "C:/Users/labstudent/Desktop/GoogleImages/Holidays/\n",
      "Holidays4.png\n",
      "https://www.gmcanantnag.net/imgjx.aspx?cid=116&zhjx=month+long+holidays+2021&xi=4&xc=25\n",
      "month long holidays 2021 Off 69% - www.gmcanantnag.net\n",
      "2022-03-28\n",
      "5\n",
      "C:/Users/labstudent/Desktop/GoogleImages/Holidays/\n",
      "Holidays5.png\n",
      "https://www.istockphoto.com/nl/vector/kleurrijke-belettering-happy-holidays-met-decoratieve-seizoensgebonden-design-gm1178482413-329397660\n",
      "Kleurrijke Belettering Happy Holidays Met Decoratieve Seizoensgebonden  Design Elementen Stockvectorkunst en meer beelden van Fijne feestdagen -  Korte frase - iStock\n",
      "2022-03-28\n",
      "6\n",
      "C:/Users/labstudent/Desktop/GoogleImages/Holidays/\n",
      "Holidays6.png\n",
      "https://www.gmcanantnag.net/imgjx.aspx?cid=116&zhjx=holiday+calendar&xi=2&xc=24\n",
      "holiday calendar Off 79% - www.gmcanantnag.net\n",
      "2022-03-28\n",
      "7\n",
      "C:/Users/labstudent/Desktop/GoogleImages/Holidays/\n",
      "Holidays7.png\n",
      "https://www.shutterstock.com/nl/search/closed+for+holidays\n",
      "Closed for holidays: afbeeldingen, stockfoto's en vectoren | Shutterstock\n",
      "2022-03-28\n",
      "8\n",
      "C:/Users/labstudent/Desktop/GoogleImages/Holidays/\n",
      "Holidays8.png\n",
      "https://www.bluebiz.com/nl/bluebook/bluebook/how-to-work-during-holidays/\n",
      "How to work during holidays | bluebiz\n",
      "2022-03-28\n",
      "9\n",
      "C:/Users/labstudent/Desktop/GoogleImages/Holidays/\n",
      "Holidays9.png\n",
      "https://dcmp.org/series/437-all-about-the-holidays\n",
      "All About the Holidays\n",
      "2022-03-28\n",
      "10\n",
      "C:/Users/labstudent/Desktop/GoogleImages/Holidays/\n",
      "Holidays10.png\n",
      "https://www.caremark.co.uk/locations/barnsley/local-news/happy-holidays\n",
      "Happy Holidays! | Caremark\n",
      "2022-03-28\n",
      "11\n",
      "C:/Users/labstudent/Desktop/GoogleImages/Holidays/\n",
      "Holidays11.png\n",
      "https://www.gmcanantnag.net/imgjx.aspx?cid=116&zhjx=list+of+holidays&xi=1&xc=24\n",
      "list of holidays Off 60% - www.gmcanantnag.net\n",
      "2022-03-28\n",
      "12\n",
      "C:/Users/labstudent/Desktop/GoogleImages/Holidays/\n",
      "Holidays12.png\n",
      "https://webworks.ca/how-to-make-the-most-of-social-media-holidays/\n",
      "How To Make The Most of Social Media Holidays - Webworks Inc.\n",
      "2022-03-28\n",
      "13\n",
      "C:/Users/labstudent/Desktop/GoogleImages/Holidays/\n",
      "Holidays13.png\n",
      "https://www.dkv-benelux.com/calendar-the-public-holidays-europe/\n",
      "Calendar of the public holidays in Europe - DKV BeNeLux\n",
      "2022-03-28\n",
      "14\n",
      "C:/Users/labstudent/Desktop/GoogleImages/Holidays/\n",
      "Holidays14.png\n",
      "https://www.pbslearningmedia.org/collection/holidays/\n",
      "Holidays | PBS LearningMedia\n",
      "2022-03-28\n",
      "15\n",
      "C:/Users/labstudent/Desktop/GoogleImages/Holidays/\n",
      "Holidays15.png\n",
      "https://www.zenefits.com/workest/2022-federal-holidays-for-small-business-owners/\n",
      "List of 2022 U.S. Federal Holidays for Small Business Owners - Workest\n",
      "2022-03-28\n",
      "16\n",
      "C:/Users/labstudent/Desktop/GoogleImages/Holidays/\n",
      "Holidays16.png\n",
      "http://www.bruciatorisantin.com/en/2020/07/summer-holidays/\n",
      "Summer Holidays - Santin Burners\n",
      "2022-03-28\n",
      "17\n",
      "C:/Users/labstudent/Desktop/GoogleImages/Holidays/\n",
      "Holidays17.png\n",
      "https://oneminuteenglish.org/en/holidays-or-holiday/\n",
      "Have nice holidays\" or \"Have a nice holiday\"? (Happy Holidays?) - One  Minute English\n",
      "2022-03-28\n",
      "18\n",
      "C:/Users/labstudent/Desktop/GoogleImages/Holidays/\n",
      "Holidays18.png\n",
      "https://www.iamexpat.nl/expat-info/dutch-holidays\n",
      "Dutch holidays 2022 & 2023\n",
      "2022-03-28\n",
      "19\n",
      "C:/Users/labstudent/Desktop/GoogleImages/Holidays/\n",
      "Holidays19.png\n",
      "https://en.dailypakistan.com.pk/02-Feb-2022/schedule-for-public-holidays-in-pakistan-for-2022-announced\n",
      "Schedule for public holidays in Pakistan for 2022 announced\n",
      "2022-03-28\n"
     ]
    }
   ],
   "source": [
    "URLs = []\n",
    "Texts=[]\n",
    "Pics=[]\n",
    "numbers=[]\n",
    "folders=[]\n",
    "Dates=[]\n",
    "\n",
    "\n",
    "count=0\n",
    "for i in range(1,number):\n",
    "    try:\n",
    "        image=driver.find_element_by_xpath('//*[@id=\"islrg\"]/div[1]/div['+str(i)+']/a[1]/div[1]/img')\n",
    "        image.screenshot(downloadfolder+str(searchterms)+str(i)+'.png')\n",
    "        \n",
    "        Pic=str(searchterms)+str(i)+'.png'\n",
    "        \n",
    "        info=driver.find_element_by_xpath('//*[@id=\"islrg\"]/div[1]/div['+str(i)+']/a[2]')\n",
    "        URL=info.get_attribute(\"href\")\n",
    "        Text=info.get_attribute(\"title\")       \n",
    "        \n",
    "        num=i\n",
    "        fold=downloadfolder\n",
    "        time.sleep(2)\n",
    "        count+=1\n",
    "        \n",
    "        today = date.today()\n",
    "        \n",
    "        print(num)\n",
    "        print (fold)\n",
    "        print(Pic)\n",
    "        print (URL)\n",
    "        print (Text)\n",
    "        print (today)\n",
    "\n",
    "        URLs.append(URL)\n",
    "        Texts.append(Text)\n",
    "        Pics.append(Pic)\n",
    "        numbers.append(num)\n",
    "        folders.append(fold)\n",
    "        Dates.append(today)\n",
    "\n",
    "    except:\n",
    "        pass"
   ]
  },
  {
   "cell_type": "markdown",
   "metadata": {},
   "source": [
    "print(URLs)\n",
    "print(Texts)\n",
    "print(Pics)\n",
    "print(numbers)\n",
    "print(folders)\n"
   ]
  },
  {
   "cell_type": "code",
   "execution_count": 22,
   "metadata": {},
   "outputs": [],
   "source": [
    "zipped = list(zip(numbers, folders, Dates, Pics, Texts, URLs))"
   ]
  },
  {
   "cell_type": "code",
   "execution_count": 23,
   "metadata": {},
   "outputs": [],
   "source": [
    "df = pd.DataFrame(zipped, columns=['number', 'folder', 'Date', 'Pic', 'Text', 'URL'])"
   ]
  },
  {
   "cell_type": "code",
   "execution_count": 24,
   "metadata": {},
   "outputs": [
    {
     "data": {
      "text/html": [
       "<div>\n",
       "<style scoped>\n",
       "    .dataframe tbody tr th:only-of-type {\n",
       "        vertical-align: middle;\n",
       "    }\n",
       "\n",
       "    .dataframe tbody tr th {\n",
       "        vertical-align: top;\n",
       "    }\n",
       "\n",
       "    .dataframe thead th {\n",
       "        text-align: right;\n",
       "    }\n",
       "</style>\n",
       "<table border=\"1\" class=\"dataframe\">\n",
       "  <thead>\n",
       "    <tr style=\"text-align: right;\">\n",
       "      <th></th>\n",
       "      <th>number</th>\n",
       "      <th>folder</th>\n",
       "      <th>Date</th>\n",
       "      <th>Pic</th>\n",
       "      <th>Text</th>\n",
       "      <th>URL</th>\n",
       "    </tr>\n",
       "  </thead>\n",
       "  <tbody>\n",
       "    <tr>\n",
       "      <th>0</th>\n",
       "      <td>1</td>\n",
       "      <td>C:/Users/labstudent/Desktop/GoogleImages/Holid...</td>\n",
       "      <td>2022-03-28</td>\n",
       "      <td>Holidays1.png</td>\n",
       "      <td>What's a Typical Paid Holiday Schedule in the US?</td>\n",
       "      <td>https://www.thebalancecareers.com/paid-holiday...</td>\n",
       "    </tr>\n",
       "    <tr>\n",
       "      <th>1</th>\n",
       "      <td>2</td>\n",
       "      <td>C:/Users/labstudent/Desktop/GoogleImages/Holid...</td>\n",
       "      <td>2022-03-28</td>\n",
       "      <td>Holidays2.png</td>\n",
       "      <td>holiday calendar 2024 Off 60% - www.gmcanantna...</td>\n",
       "      <td>https://www.gmcanantnag.net/imgjx.aspx?cid=116...</td>\n",
       "    </tr>\n",
       "    <tr>\n",
       "      <th>2</th>\n",
       "      <td>3</td>\n",
       "      <td>C:/Users/labstudent/Desktop/GoogleImages/Holid...</td>\n",
       "      <td>2022-03-28</td>\n",
       "      <td>Holidays3.png</td>\n",
       "      <td>HOLIDAY! - OldGliders - modele RC</td>\n",
       "      <td>https://oldgliders.com/en/news/holiday/</td>\n",
       "    </tr>\n",
       "    <tr>\n",
       "      <th>3</th>\n",
       "      <td>4</td>\n",
       "      <td>C:/Users/labstudent/Desktop/GoogleImages/Holid...</td>\n",
       "      <td>2022-03-28</td>\n",
       "      <td>Holidays4.png</td>\n",
       "      <td>month long holidays 2021 Off 69% - www.gmcanan...</td>\n",
       "      <td>https://www.gmcanantnag.net/imgjx.aspx?cid=116...</td>\n",
       "    </tr>\n",
       "    <tr>\n",
       "      <th>4</th>\n",
       "      <td>5</td>\n",
       "      <td>C:/Users/labstudent/Desktop/GoogleImages/Holid...</td>\n",
       "      <td>2022-03-28</td>\n",
       "      <td>Holidays5.png</td>\n",
       "      <td>Kleurrijke Belettering Happy Holidays Met Deco...</td>\n",
       "      <td>https://www.istockphoto.com/nl/vector/kleurrij...</td>\n",
       "    </tr>\n",
       "    <tr>\n",
       "      <th>5</th>\n",
       "      <td>6</td>\n",
       "      <td>C:/Users/labstudent/Desktop/GoogleImages/Holid...</td>\n",
       "      <td>2022-03-28</td>\n",
       "      <td>Holidays6.png</td>\n",
       "      <td>holiday calendar Off 79% - www.gmcanantnag.net</td>\n",
       "      <td>https://www.gmcanantnag.net/imgjx.aspx?cid=116...</td>\n",
       "    </tr>\n",
       "    <tr>\n",
       "      <th>6</th>\n",
       "      <td>7</td>\n",
       "      <td>C:/Users/labstudent/Desktop/GoogleImages/Holid...</td>\n",
       "      <td>2022-03-28</td>\n",
       "      <td>Holidays7.png</td>\n",
       "      <td>Closed for holidays: afbeeldingen, stockfoto's...</td>\n",
       "      <td>https://www.shutterstock.com/nl/search/closed+...</td>\n",
       "    </tr>\n",
       "    <tr>\n",
       "      <th>7</th>\n",
       "      <td>8</td>\n",
       "      <td>C:/Users/labstudent/Desktop/GoogleImages/Holid...</td>\n",
       "      <td>2022-03-28</td>\n",
       "      <td>Holidays8.png</td>\n",
       "      <td>How to work during holidays | bluebiz</td>\n",
       "      <td>https://www.bluebiz.com/nl/bluebook/bluebook/h...</td>\n",
       "    </tr>\n",
       "    <tr>\n",
       "      <th>8</th>\n",
       "      <td>9</td>\n",
       "      <td>C:/Users/labstudent/Desktop/GoogleImages/Holid...</td>\n",
       "      <td>2022-03-28</td>\n",
       "      <td>Holidays9.png</td>\n",
       "      <td>All About the Holidays</td>\n",
       "      <td>https://dcmp.org/series/437-all-about-the-holi...</td>\n",
       "    </tr>\n",
       "    <tr>\n",
       "      <th>9</th>\n",
       "      <td>10</td>\n",
       "      <td>C:/Users/labstudent/Desktop/GoogleImages/Holid...</td>\n",
       "      <td>2022-03-28</td>\n",
       "      <td>Holidays10.png</td>\n",
       "      <td>Happy Holidays! | Caremark</td>\n",
       "      <td>https://www.caremark.co.uk/locations/barnsley/...</td>\n",
       "    </tr>\n",
       "  </tbody>\n",
       "</table>\n",
       "</div>"
      ],
      "text/plain": [
       "   number                                             folder        Date  \\\n",
       "0       1  C:/Users/labstudent/Desktop/GoogleImages/Holid...  2022-03-28   \n",
       "1       2  C:/Users/labstudent/Desktop/GoogleImages/Holid...  2022-03-28   \n",
       "2       3  C:/Users/labstudent/Desktop/GoogleImages/Holid...  2022-03-28   \n",
       "3       4  C:/Users/labstudent/Desktop/GoogleImages/Holid...  2022-03-28   \n",
       "4       5  C:/Users/labstudent/Desktop/GoogleImages/Holid...  2022-03-28   \n",
       "5       6  C:/Users/labstudent/Desktop/GoogleImages/Holid...  2022-03-28   \n",
       "6       7  C:/Users/labstudent/Desktop/GoogleImages/Holid...  2022-03-28   \n",
       "7       8  C:/Users/labstudent/Desktop/GoogleImages/Holid...  2022-03-28   \n",
       "8       9  C:/Users/labstudent/Desktop/GoogleImages/Holid...  2022-03-28   \n",
       "9      10  C:/Users/labstudent/Desktop/GoogleImages/Holid...  2022-03-28   \n",
       "\n",
       "              Pic                                               Text  \\\n",
       "0   Holidays1.png  What's a Typical Paid Holiday Schedule in the US?   \n",
       "1   Holidays2.png  holiday calendar 2024 Off 60% - www.gmcanantna...   \n",
       "2   Holidays3.png                  HOLIDAY! - OldGliders - modele RC   \n",
       "3   Holidays4.png  month long holidays 2021 Off 69% - www.gmcanan...   \n",
       "4   Holidays5.png  Kleurrijke Belettering Happy Holidays Met Deco...   \n",
       "5   Holidays6.png     holiday calendar Off 79% - www.gmcanantnag.net   \n",
       "6   Holidays7.png  Closed for holidays: afbeeldingen, stockfoto's...   \n",
       "7   Holidays8.png              How to work during holidays | bluebiz   \n",
       "8   Holidays9.png                             All About the Holidays   \n",
       "9  Holidays10.png                         Happy Holidays! | Caremark   \n",
       "\n",
       "                                                 URL  \n",
       "0  https://www.thebalancecareers.com/paid-holiday...  \n",
       "1  https://www.gmcanantnag.net/imgjx.aspx?cid=116...  \n",
       "2            https://oldgliders.com/en/news/holiday/  \n",
       "3  https://www.gmcanantnag.net/imgjx.aspx?cid=116...  \n",
       "4  https://www.istockphoto.com/nl/vector/kleurrij...  \n",
       "5  https://www.gmcanantnag.net/imgjx.aspx?cid=116...  \n",
       "6  https://www.shutterstock.com/nl/search/closed+...  \n",
       "7  https://www.bluebiz.com/nl/bluebook/bluebook/h...  \n",
       "8  https://dcmp.org/series/437-all-about-the-holi...  \n",
       "9  https://www.caremark.co.uk/locations/barnsley/...  "
      ]
     },
     "execution_count": 24,
     "metadata": {},
     "output_type": "execute_result"
    }
   ],
   "source": [
    "df.head(10)"
   ]
  },
  {
   "cell_type": "code",
   "execution_count": 25,
   "metadata": {},
   "outputs": [],
   "source": [
    "df.to_csv(downloadfolder+term+'.csv')"
   ]
  },
  {
   "cell_type": "code",
   "execution_count": null,
   "metadata": {},
   "outputs": [],
   "source": []
  }
 ],
 "metadata": {
  "kernelspec": {
   "display_name": "Python 3",
   "language": "python",
   "name": "python3"
  },
  "language_info": {
   "codemirror_mode": {
    "name": "ipython",
    "version": 3
   },
   "file_extension": ".py",
   "mimetype": "text/x-python",
   "name": "python",
   "nbconvert_exporter": "python",
   "pygments_lexer": "ipython3",
   "version": "3.9.7"
  }
 },
 "nbformat": 4,
 "nbformat_minor": 4
}
