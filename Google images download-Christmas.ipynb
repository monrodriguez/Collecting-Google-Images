{
 "cells": [
  {
   "attachments": {},
   "cell_type": "markdown",
   "metadata": {},
   "source": [
    "#Remember that you need: \n",
    "1) Have Geckodriver.exe and place it in the googleimages folder (if not, download it)\n",
    "2) Have Firefox Downloaded (if not, download it)\n",
    "3) install all packages required\n",
    "4) Create a folder for the images \n",
    "5) Set all the paths for folder/images/words."
   ]
  },
  {
   "cell_type": "code",
   "execution_count": null,
   "metadata": {},
   "outputs": [],
   "source": [
    "pip install google_images_download  "
   ]
  },
  {
   "cell_type": "code",
   "execution_count": null,
   "metadata": {},
   "outputs": [],
   "source": [
    "#you might need to install packages before importing them!! \n",
    "\n",
    "#pip install selenium\n",
    "#pip install -U selenium\n",
    "#pip install webdriver-manager\n"
   ]
  },
  {
   "cell_type": "code",
   "execution_count": null,
   "metadata": {},
   "outputs": [],
   "source": [
    "\n",
    "#Imports Packages\n",
    "from selenium import webdriver \n",
    "from selenium.webdriver.common.keys import Keys\n",
    "from selenium.webdriver.firefox.service import Service as FirefoxService \n",
    "from webdriver_manager.firefox import GeckoDriverManager\n",
    "\n",
    "import time \n",
    "from datetime import date\n",
    "import pandas as pd"
   ]
  },
  {
   "cell_type": "code",
   "execution_count": null,
   "metadata": {},
   "outputs": [],
   "source": [
    "#Opens up web driver and goes to Google Images\n",
    "driver = webdriver.Firefox(service=FirefoxService(GeckoDriverManager().install()))\n",
    "#driver = webdriver.Firefox(executable_path='C:/Users/labstudent/Desktop/GoogleImages/geckodriver.exe')\n",
    "#driver = webdriver.Chrome('C:/Web Scraping course/chromedriver.exe')\n",
    "#driver.get('https://www.google.ca/imghp?hl=en&tab=ri&authuser=0&ogbl')"
   ]
  },
  {
   "cell_type": "code",
   "execution_count": null,
   "metadata": {},
   "outputs": [],
   "source": [
    "site=driver.get(\"https://images.google.com/\")\n"
   ]
  },
  {
   "cell_type": "code",
   "execution_count": null,
   "metadata": {},
   "outputs": [],
   "source": [
    "#driver.execute_script('window.scrollTo(0,document.body.scrollHeight)')\n",
    "driver.find_element_by_xpath('//*[@id=\"L2AGLb\"]').click()\n",
    "\n"
   ]
  },
  {
   "cell_type": "code",
   "execution_count": null,
   "metadata": {},
   "outputs": [],
   "source": [
    "box=driver.find_element_by_xpath('/html/body/div[1]/div[3]/form/div[1]/div[1]/div[1]/div/div[2]/input')"
   ]
  },
  {
   "cell_type": "code",
   "execution_count": null,
   "metadata": {},
   "outputs": [],
   "source": [
    "#Remember to create a folder in the main folder for all the images and for the CSV file! \n",
    "#list of search terms\n",
    "\n",
    "searchterms='Holidays'\n",
    "mainfolder=\"C:/Users/XXXXX/GoogleImages/\"\n",
    "term='Christmas'\n",
    "\n",
    "folder=term+\"/\"\n",
    "\n",
    "downloadfolder=mainfolder+folder"
   ]
  },
  {
   "cell_type": "code",
   "execution_count": null,
   "metadata": {},
   "outputs": [],
   "source": [
    "box.send_keys(searchterms)\n",
    "box.send_keys(Keys.ENTER)"
   ]
  },
  {
   "cell_type": "code",
   "execution_count": null,
   "metadata": {},
   "outputs": [],
   "source": [
    "#Will keep scrolling down the webpage until it cannot scroll no more\n",
    "last_height = driver.execute_script('return document.body.scrollHeight')\n",
    "while True:\n",
    "    driver.execute_script('window.scrollTo(0,document.body.scrollHeight)')\n",
    "    time.sleep(2)\n",
    "    new_height = driver.execute_script('return document.body.scrollHeight')\n",
    "    try:\n",
    "        driver.find_element_by_xpath('//*[@id=\"islmp\"]/div/div/div/div/div[5]/input').click().screenshot(folder+str(searchterms)+'.png')\n",
    "        time.sleep(2)\n",
    "    except:\n",
    "        pass\n",
    "    if new_height == last_height:\n",
    "        break\n",
    "    last_height = new_height\n"
   ]
  },
  {
   "cell_type": "code",
   "execution_count": null,
   "metadata": {},
   "outputs": [],
   "source": [
    "#//*[@id=\"islrg\"]/div[1]/div[1]/a[1]/div[1]/img"
   ]
  },
  {
   "cell_type": "code",
   "execution_count": null,
   "metadata": {},
   "outputs": [],
   "source": [
    "#number of images to collect\n",
    "number=20"
   ]
  },
  {
   "cell_type": "code",
   "execution_count": null,
   "metadata": {},
   "outputs": [],
   "source": [
    "URLs = []\n",
    "Texts=[]\n",
    "Pics=[]\n",
    "numbers=[]\n",
    "folders=[]\n",
    "Dates=[]\n",
    "\n",
    "\n",
    "count=0\n",
    "for i in range(1,number):\n",
    "    try:\n",
    "        image=driver.find_element_by_xpath('//*[@id=\"islrg\"]/div[1]/div['+str(i)+']/a[1]/div[1]/img')\n",
    "        image.screenshot(downloadfolder+str(searchterms)+str(i)+'.png')\n",
    "        \n",
    "        Pic=str(searchterms)+str(i)+'.png'\n",
    "        \n",
    "        info=driver.find_element_by_xpath('//*[@id=\"islrg\"]/div[1]/div['+str(i)+']/a[2]')\n",
    "        URL=info.get_attribute(\"href\")\n",
    "        Text=info.get_attribute(\"title\")       \n",
    "        \n",
    "        num=i\n",
    "        fold=downloadfolder\n",
    "        time.sleep(2)\n",
    "        count+=1\n",
    "        \n",
    "        today = date.today()\n",
    "        \n",
    "        print(num)\n",
    "        print (fold)\n",
    "        print(Pic)\n",
    "        print (URL)\n",
    "        print (Text)\n",
    "        print (today)\n",
    "\n",
    "        URLs.append(URL)\n",
    "        Texts.append(Text)\n",
    "        Pics.append(Pic)\n",
    "        numbers.append(num)\n",
    "        folders.append(fold)\n",
    "        Dates.append(today)\n",
    "\n",
    "    except:\n",
    "        pass"
   ]
  },
  {
   "attachments": {},
   "cell_type": "markdown",
   "metadata": {},
   "source": [
    "print(URLs)\n",
    "print(Texts)\n",
    "print(Pics)\n",
    "print(numbers)\n",
    "print(folders)\n"
   ]
  },
  {
   "cell_type": "code",
   "execution_count": null,
   "metadata": {},
   "outputs": [],
   "source": [
    "zipped = list(zip(numbers, folders, Dates, Pics, Texts, URLs))"
   ]
  },
  {
   "cell_type": "code",
   "execution_count": null,
   "metadata": {},
   "outputs": [],
   "source": [
    "df = pd.DataFrame(zipped, columns=['number', 'folder', 'Date', 'Pic', 'Text', 'URL'])"
   ]
  },
  {
   "cell_type": "code",
   "execution_count": null,
   "metadata": {},
   "outputs": [],
   "source": [
    "df.head(10)"
   ]
  },
  {
   "cell_type": "code",
   "execution_count": null,
   "metadata": {},
   "outputs": [],
   "source": [
    "df.to_csv(downloadfolder+term+'.csv')"
   ]
  },
  {
   "cell_type": "code",
   "execution_count": null,
   "metadata": {},
   "outputs": [],
   "source": []
  }
 ],
 "metadata": {
  "kernelspec": {
   "display_name": "Python 3",
   "language": "python",
   "name": "python3"
  },
  "language_info": {
   "codemirror_mode": {
    "name": "ipython",
    "version": 3
   },
   "file_extension": ".py",
   "mimetype": "text/x-python",
   "name": "python",
   "nbconvert_exporter": "python",
   "pygments_lexer": "ipython3",
   "version": "3.9.7"
  }
 },
 "nbformat": 4,
 "nbformat_minor": 4
}
